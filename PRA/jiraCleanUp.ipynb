{
 "cells": [
  {
   "cell_type": "code",
   "execution_count": null,
   "id": "b68bc9aa",
   "metadata": {},
   "outputs": [],
   "source": [
    "import json"
   ]
  },
  {
   "cell_type": "code",
   "execution_count": null,
   "id": "65e67c52",
   "metadata": {},
   "outputs": [],
   "source": [
    "with open('issues_raw.json', 'r') as file:\n",
    "    issues = json.load(file)\n",
    "\n",
    "print(len(issues))"
   ]
  },
  {
   "cell_type": "code",
   "execution_count": null,
   "id": "53185cb8",
   "metadata": {},
   "outputs": [],
   "source": [
    "def filterNoSprints(issues):\n",
    "    return list(filter(lambda x: len(x['sprints']) !=0, issues))\n",
    "\n",
    "issues = filterNoSprints(issues)\n",
    "print(len(issues))"
   ]
  },
  {
   "cell_type": "code",
   "execution_count": null,
   "id": "01b61a47",
   "metadata": {},
   "outputs": [],
   "source": [
    "def getProjects(issues):\n",
    "    l= list(set(map(lambda x: x['project'], issues)))\n",
    "    l.sort()\n",
    "    return l"
   ]
  },
  {
   "cell_type": "code",
   "execution_count": null,
   "id": "9374f60e",
   "metadata": {},
   "outputs": [],
   "source": [
    "def getProjectType(project):\n",
    "    if project.startswith('ZUP'):\n",
    "        return 'SUPPORT'\n",
    "    if project.startswith('NE') or project.startswith('ON') or project.startswith('P') or project.startswith('U') or (project.startswith('S') and not project.startswith('SW')):\n",
    "        return 'INTERN'\n",
    "    return 'CLIENT'\n",
    "\n",
    "def setProjectType(issues):\n",
    "    for issue in issues:\n",
    "        projectType = getProjectType(issue['project'])\n",
    "        issue['projectType'] = projectType\n",
    "\n",
    "setProjectType(issues)"
   ]
  },
  {
   "cell_type": "code",
   "execution_count": null,
   "id": "79a54c98",
   "metadata": {},
   "outputs": [],
   "source": [
    "def getProjectMappings(issues):\n",
    "    count = 0\n",
    "    res = {}\n",
    "    for project in getProjects(issues):\n",
    "        projectType = getProjectType(project)\n",
    "        res[project] = projectType + str(count)\n",
    "        count = count + 1\n",
    "    return res\n",
    "\n",
    "projectMappings = getProjectMappings(issues)\n",
    "print(issues[0])"
   ]
  },
  {
   "cell_type": "code",
   "execution_count": null,
   "id": "2c3486d3",
   "metadata": {},
   "outputs": [],
   "source": [
    "def replaceProject(issues, projectMappings):\n",
    "    varList = ['project', 'title', 'key']\n",
    "    for issue in issues:\n",
    "        for v in varList:\n",
    "            keys = list(projectMappings.keys())\n",
    "            keys.sort(key = len,reverse=True)\n",
    "            for k in projectMappings.keys():\n",
    "                issue[v] = issue[v].replace(k, projectMappings[k])\n",
    "\n",
    "replaceProject(issues, projectMappings)\n",
    "print(issues[0])"
   ]
  },
  {
   "cell_type": "code",
   "execution_count": null,
   "id": "7e33d827",
   "metadata": {},
   "outputs": [],
   "source": [
    "#tokens = []\n",
    "#for issue in issues:\n",
    "#    for token in issue['title'].split(' '):\n",
    "#        tokens.append(token)\n",
    "#print(set(filter(lambda x: len(x)>1 and x[0:2].isupper(), tokens)))"
   ]
  },
  {
   "cell_type": "code",
   "execution_count": null,
   "id": "314370eb",
   "metadata": {},
   "outputs": [],
   "source": [
    "tokensToDelete = []\n",
    "def cleanUpTitle(issues, tokensToDelete):\n",
    "    for issue in issues:\n",
    "        for token in tokensToDelete:\n",
    "            issue['title'] = issue['title'].replace(token, '')\n",
    "\n",
    "cleanUpTitle(issues, tokensToDelete)"
   ]
  },
  {
   "cell_type": "code",
   "execution_count": null,
   "id": "7e943eba",
   "metadata": {},
   "outputs": [],
   "source": [
    "#print(list(map(lambda x: x['title'], issues))[:100])"
   ]
  },
  {
   "cell_type": "code",
   "execution_count": null,
   "id": "3df73c9b",
   "metadata": {},
   "outputs": [],
   "source": [
    "with open('issues.json', 'w') as file:\n",
    "    json.dump(issues, file)"
   ]
  },
  {
   "cell_type": "code",
   "execution_count": null,
   "id": "95ecff08",
   "metadata": {},
   "outputs": [],
   "source": []
  }
 ],
 "metadata": {
  "kernelspec": {
   "display_name": "Python 3 (ipykernel)",
   "language": "python",
   "name": "python3"
  },
  "language_info": {
   "codemirror_mode": {
    "name": "ipython",
    "version": 3
   },
   "file_extension": ".py",
   "mimetype": "text/x-python",
   "name": "python",
   "nbconvert_exporter": "python",
   "pygments_lexer": "ipython3",
   "version": "3.8.13"
  }
 },
 "nbformat": 4,
 "nbformat_minor": 5
}
