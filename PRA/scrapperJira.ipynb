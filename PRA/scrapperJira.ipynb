{
 "cells": [
  {
   "cell_type": "code",
   "execution_count": null,
   "id": "8808f58f",
   "metadata": {},
   "outputs": [],
   "source": [
    "!pip install jira"
   ]
  },
  {
   "cell_type": "code",
   "execution_count": null,
   "id": "c515a306",
   "metadata": {},
   "outputs": [],
   "source": [
    "from jira import JIRA\n",
    "import re\n",
    "import numpy as np"
   ]
  },
  {
   "cell_type": "code",
   "execution_count": null,
   "id": "f03ea71c",
   "metadata": {},
   "outputs": [],
   "source": [
    "print('init')\n",
    "jira = JIRA('https://support.subshell.com',basic_auth=(username, password))\n",
    "print(jira)\n",
    "issues = []\n",
    "start = 0\n",
    "size = 100\n",
    "do_next = True\n",
    "while do_next:\n",
    "    do_next = False\n",
    "    print('loop')\n",
    "    search = jira.search_issues('cf[10580] = Weasel and status in (\"Gelöst / Resolved\", \"Geschlossen / Closed\") and Sprint is not EMPTY',\n",
    "                               startAt= start, size = size)\n",
    "    print('Search', start, size)\n",
    "    do_next = len(search) == size\n",
    "    start = start + size\n",
    "    \n",
    "    for issue_found in search:\n",
    "        issue = {}\n",
    "    \n",
    "    \n",
    "        sprints =  getattr(issue_found.fields, 'customfield_10880')\n",
    "        sprints = [re.findall(r'Weasel \\d+', sprint) for sprint in sprints]\n",
    "        sprints = np.array([np.array(x) for x in sprints if len(x) > 0]).flatten()\n",
    "        timeSpent = 0\n",
    "        for worklog in jira.worklogs(issue_found):\n",
    "            timeSpent = timeSpent + worklog.timeSpentSeconds\n",
    "        originalEstimate = issue_found.fields.__dict__.get('timeoriginalestimate')\n",
    "    \n",
    "        issue['sprints'] = sprints\n",
    "        issue['timeSpent'] = timeSpent\n",
    "        issue['originalEstimate'] = originalEstimate\n",
    "        issue['key'] = issue_found.key\n",
    "        issue['project'] = issue_found.fields.project.key\n",
    "        issue['issueType'] = getattr(issue_found.fields, 'issuetype').name\n",
    "        issue['title'] = getattr(issue_found.fields, 'summary')\n",
    "        # print(issue)\n",
    "        # print('--')\n",
    "        issues.append(issue)\n",
    "    #print(issue_found.key, getattr(issue_found.fields, 'customfield_10880'))"
   ]
  },
  {
   "cell_type": "code",
   "execution_count": null,
   "id": "cfe58075",
   "metadata": {},
   "outputs": [],
   "source": [
    "import json\n",
    "\n",
    "with open('issues_raw.json', 'w') as file:\n",
    "    json.dump(issues, file)"
   ]
  },
  {
   "cell_type": "code",
   "execution_count": null,
   "id": "8a26f0ef",
   "metadata": {},
   "outputs": [],
   "source": []
  },
  {
   "cell_type": "code",
   "execution_count": null,
   "id": "0d6c348d",
   "metadata": {},
   "outputs": [],
   "source": []
  }
 ],
 "metadata": {
  "kernelspec": {
   "display_name": "Python 3 (ipykernel)",
   "language": "python",
   "name": "python3"
  },
  "language_info": {
   "codemirror_mode": {
    "name": "ipython",
    "version": 3
   },
   "file_extension": ".py",
   "mimetype": "text/x-python",
   "name": "python",
   "nbconvert_exporter": "python",
   "pygments_lexer": "ipython3",
   "version": "3.8.13"
  }
 },
 "nbformat": 4,
 "nbformat_minor": 5
}
