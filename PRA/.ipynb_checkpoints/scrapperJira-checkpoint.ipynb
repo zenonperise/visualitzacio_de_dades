{
 "cells": [
  {
   "cell_type": "code",
   "execution_count": 3,
   "id": "8808f58f",
   "metadata": {},
   "outputs": [
    {
     "name": "stdout",
     "output_type": "stream",
     "text": [
      "Collecting jira\n",
      "  Using cached jira-3.2.0-py3-none-any.whl (69 kB)\n",
      "Requirement already satisfied: requests>=2.10.0 in /home/zenon/anaconda3/envs/at1/lib/python3.8/site-packages (from jira) (2.27.1)\n",
      "Requirement already satisfied: defusedxml in /home/zenon/anaconda3/envs/at1/lib/python3.8/site-packages (from jira) (0.7.1)\n",
      "Requirement already satisfied: requests-oauthlib>=1.1.0 in /home/zenon/anaconda3/envs/at1/lib/python3.8/site-packages (from jira) (1.3.1)\n",
      "Collecting keyring\n",
      "  Using cached keyring-23.5.1-py3-none-any.whl (33 kB)\n",
      "Collecting requests-toolbelt\n",
      "  Using cached requests_toolbelt-0.9.1-py2.py3-none-any.whl (54 kB)\n",
      "Requirement already satisfied: typing-extensions>=3.7.4.2 in /home/zenon/anaconda3/envs/at1/lib/python3.8/site-packages (from jira) (4.2.0)\n",
      "Requirement already satisfied: charset-normalizer~=2.0.0 in /home/zenon/anaconda3/envs/at1/lib/python3.8/site-packages (from requests>=2.10.0->jira) (2.0.12)\n",
      "Requirement already satisfied: idna<4,>=2.5 in /home/zenon/anaconda3/envs/at1/lib/python3.8/site-packages (from requests>=2.10.0->jira) (3.3)\n",
      "Requirement already satisfied: urllib3<1.27,>=1.21.1 in /home/zenon/anaconda3/envs/at1/lib/python3.8/site-packages (from requests>=2.10.0->jira) (1.26.9)\n",
      "Requirement already satisfied: certifi>=2017.4.17 in /home/zenon/anaconda3/envs/at1/lib/python3.8/site-packages (from requests>=2.10.0->jira) (2021.10.8)\n",
      "Requirement already satisfied: oauthlib>=3.0.0 in /home/zenon/anaconda3/envs/at1/lib/python3.8/site-packages (from requests-oauthlib>=1.1.0->jira) (3.2.0)\n",
      "Collecting SecretStorage>=3.2\n",
      "  Using cached SecretStorage-3.3.2-py3-none-any.whl (15 kB)\n",
      "Requirement already satisfied: importlib-metadata>=3.6 in /home/zenon/anaconda3/envs/at1/lib/python3.8/site-packages (from keyring->jira) (4.11.3)\n",
      "Collecting jeepney>=0.4.2\n",
      "  Using cached jeepney-0.8.0-py3-none-any.whl (48 kB)\n",
      "Requirement already satisfied: zipp>=0.5 in /home/zenon/anaconda3/envs/at1/lib/python3.8/site-packages (from importlib-metadata>=3.6->keyring->jira) (3.7.0)\n",
      "Requirement already satisfied: cryptography>=2.0 in /home/zenon/anaconda3/envs/at1/lib/python3.8/site-packages (from SecretStorage>=3.2->keyring->jira) (36.0.2)\n",
      "Requirement already satisfied: cffi>=1.12 in /home/zenon/anaconda3/envs/at1/lib/python3.8/site-packages (from cryptography>=2.0->SecretStorage>=3.2->keyring->jira) (1.15.0)\n",
      "Requirement already satisfied: pycparser in /home/zenon/anaconda3/envs/at1/lib/python3.8/site-packages (from cffi>=1.12->cryptography>=2.0->SecretStorage>=3.2->keyring->jira) (2.21)\n",
      "Installing collected packages: jeepney, requests-toolbelt, SecretStorage, keyring, jira\n",
      "Successfully installed SecretStorage-3.3.2 jeepney-0.8.0 jira-3.2.0 keyring-23.5.1 requests-toolbelt-0.9.1\n"
     ]
    }
   ],
   "source": [
    "!pip install jira"
   ]
  },
  {
   "cell_type": "code",
   "execution_count": 4,
   "id": "c515a306",
   "metadata": {},
   "outputs": [],
   "source": [
    "from jira import JIRA\n",
    "import re\n",
    "import numpy as np"
   ]
  },
  {
   "cell_type": "code",
   "execution_count": null,
   "id": "f03ea71c",
   "metadata": {},
   "outputs": [],
   "source": [
    "jira = JIRA('https://support.subshell.com',basic_auth=('perise', 'zenJira1'))\n",
    "\n",
    "search = jira.search_issues('cf[10580] = Weasel and status in (\"Gelöst / Resolved\", \"Geschlossen / Closed\") and Sprint is not EMPTY')\n",
    "\n",
    "for issue_found in search[:1]:\n",
    "    issue = {}\n",
    "    \n",
    "    \n",
    "    sprints =  getattr(issue_found.fields, 'customfield_10880')\n",
    "    sprints = [re.findall(r'Weasel \\d+', sprint) for sprint in sprints]\n",
    "    sprints = np.array([np.array(x) for x in sprints if len(x) > 0]).flatten()\n",
    "    timeSpent = 0\n",
    "    for worklog in jira.worklogs(issue_found):\n",
    "        timeSpent = timeSpent + worklog.timeSpentSeconds\n",
    "    originalEstimate = issue_found.fields.__dict__.get('timeoriginalestimate')\n",
    "    \n",
    "    issue['sprints'] = sprints\n",
    "    issue['timeSpent'] = timeSpent\n",
    "    issue['originalEstimate'] = originalEstimate\n",
    "    issue['key'] = key\n",
    "    issue['project'] = issue_found.fields.project\n",
    "    issue['issueType'] = getattr(issue_found.fields, 'issuetype')\n",
    "    issue['title'] = getattr(issue_found.fields, 'summary')\n",
    "    print(issue)\n",
    "    print('--')\n",
    "    #print(issue_found.key, getattr(issue_found.fields, 'customfield_10880'))"
   ]
  },
  {
   "cell_type": "code",
   "execution_count": null,
   "id": "cfe58075",
   "metadata": {},
   "outputs": [],
   "source": []
  },
  {
   "cell_type": "code",
   "execution_count": null,
   "id": "684674b7",
   "metadata": {},
   "outputs": [],
   "source": []
  },
  {
   "cell_type": "code",
   "execution_count": null,
   "id": "fd3d0f43",
   "metadata": {},
   "outputs": [],
   "source": []
  }
 ],
 "metadata": {
  "kernelspec": {
   "display_name": "Python 3 (ipykernel)",
   "language": "python",
   "name": "python3"
  },
  "language_info": {
   "codemirror_mode": {
    "name": "ipython",
    "version": 3
   },
   "file_extension": ".py",
   "mimetype": "text/x-python",
   "name": "python",
   "nbconvert_exporter": "python",
   "pygments_lexer": "ipython3",
   "version": "3.8.13"
  }
 },
 "nbformat": 4,
 "nbformat_minor": 5
}
